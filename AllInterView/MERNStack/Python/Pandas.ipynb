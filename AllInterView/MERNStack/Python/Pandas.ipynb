{
 "cells": [
  {
   "cell_type": "code",
   "execution_count": 4,
   "id": "6c1eae42-3218-4383-84fc-16ca72a0db62",
   "metadata": {},
   "outputs": [],
   "source": [
    "import cv2 as cv\n",
    "\n",
    "import pandas as pd"
   ]
  },
  {
   "cell_type": "code",
   "execution_count": 4,
   "id": "07057df6-45e3-478a-ae02-954948c0bc97",
   "metadata": {},
   "outputs": [
    {
     "name": "stdout",
     "output_type": "stream",
     "text": [
      "<module 'pandas' from 'C:\\\\Users\\\\sjuga\\\\AppData\\\\Roaming\\\\Python\\\\Python312\\\\site-packages\\\\pandas\\\\__init__.py'>\n"
     ]
    }
   ],
   "source": [
    "\n",
    "print(pd)"
   ]
  },
  {
   "cell_type": "code",
   "execution_count": 26,
   "id": "13728b6e-38b8-4acf-914d-1029a06fa451",
   "metadata": {},
   "outputs": [
    {
     "data": {
      "text/html": [
       "<div>\n",
       "<style scoped>\n",
       "    .dataframe tbody tr th:only-of-type {\n",
       "        vertical-align: middle;\n",
       "    }\n",
       "\n",
       "    .dataframe tbody tr th {\n",
       "        vertical-align: top;\n",
       "    }\n",
       "\n",
       "    .dataframe thead th {\n",
       "        text-align: right;\n",
       "    }\n",
       "</style>\n",
       "<table border=\"1\" class=\"dataframe\">\n",
       "  <thead>\n",
       "    <tr style=\"text-align: right;\">\n",
       "      <th></th>\n",
       "      <th>cars</th>\n",
       "      <th>passings</th>\n",
       "    </tr>\n",
       "  </thead>\n",
       "  <tbody>\n",
       "    <tr>\n",
       "      <th>0</th>\n",
       "      <td>BMW</td>\n",
       "      <td>3</td>\n",
       "    </tr>\n",
       "    <tr>\n",
       "      <th>1</th>\n",
       "      <td>Volvo</td>\n",
       "      <td>7</td>\n",
       "    </tr>\n",
       "    <tr>\n",
       "      <th>2</th>\n",
       "      <td>Ford</td>\n",
       "      <td>2</td>\n",
       "    </tr>\n",
       "  </tbody>\n",
       "</table>\n",
       "</div>"
      ],
      "text/plain": [
       "    cars  passings\n",
       "0    BMW         3\n",
       "1  Volvo         7\n",
       "2   Ford         2"
      ]
     },
     "execution_count": 26,
     "metadata": {},
     "output_type": "execute_result"
    }
   ],
   "source": [
    "mydataset = {\n",
    "  'cars': [\"BMW\", \"Volvo\", \"Ford\"],\n",
    "  'passings': [3, 7, 2]\n",
    "}\n",
    "myvar = pd.DataFrame(mydataset)\n",
    "myvar # show butful\n",
    "# df.to_csv(\"myvar\") ----<><>< dataFrame convert to Csv file\n",
    "# print(myvar)\n",
    "# print(myvar.loc[0])\n",
    "# #use a list of indexes:\n",
    "# print(myvar.loc[[0, 1]])\n",
    "\n",
    "\n",
    "##################################  Create A dataFRam and Then Convert To CSV File ++++++++++++++++++++++\n",
    "\n",
    "mydataset = {\n",
    "    'name': [\"jugal\", \"karan\", \"kanika\", \"anku\", \"nikhil\"],\n",
    "    'rollno': [14, 54, 30, 20, 10],\n",
    "    'class': [\"10th\", \"12th\", \"13th\", \"12th\", \"10th\"],\n",
    "    'age': [20, 25, 27, 28, 21],\n",
    "    'gender': [\"male\", \"male\", \"female\", \"male\", \"lgbtq\"],\n",
    "    'subject':[\"computer\",\"army\",\"design\",\"army\",\"rider\"]\n",
    "}\n",
    "df = pd.DataFrame(mydataset)\n",
    "df.to_csv(\"school.csv\")\n",
    "\n",
    "# and Then Read File CSV\n",
    "df = pd.read_csv('school.csv')\n",
    "df\n"
   ]
  },
  {
   "cell_type": "code",
   "execution_count": 21,
   "id": "346dd597-da07-4d7b-a0e3-5a2adf4a86f5",
   "metadata": {},
   "outputs": [
    {
     "name": "stdout",
     "output_type": "stream",
     "text": [
      "      calories  duration\n",
      "day1       420        50\n",
      "day2       380        40\n",
      "day3       390        45\n",
      "calories    380\n",
      "duration     40\n",
      "Name: day2, dtype: int64\n"
     ]
    }
   ],
   "source": [
    "\n",
    "data = {\n",
    "  \"calories\": [420, 380, 390],\n",
    "  \"duration\": [50, 40, 45]\n",
    "}\n",
    "df = pd.DataFrame(data, index = [\"day1\", \"day2\", \"day3\"])\n",
    "print(df) \n",
    "print(df.loc[\"day2\"])"
   ]
  },
  {
   "cell_type": "code",
   "execution_count": 16,
   "id": "23d7f75b-383a-4372-87e2-20bc01a197c5",
   "metadata": {},
   "outputs": [],
   "source": [
    "\n",
    "df = pd.read_csv('earth.csv')\n",
    "# print(df.reset_index(drop=True).head())\n",
    "# df.tail(10) # down show\n",
    "# df.head(10) #upp show\n",
    "#print(df , header=None) show column in the index number-\n",
    "##print(df , names=[\"jugal\" , \"karan\", \"naku\"]) chnage your column name\n",
    "#one_without_null_columns = one.dropna(axis=1) #remove your cloumns\n",
    "#print(df, skiprow=[1,2,3])\n",
    "#df.describe() #mean count std\n",
    "# print(df.to_string(index=False))\n",
    "# print(df.info()) \n",
    "# print(df.to_string()) \n",
    "# print(df[[\"Year\"]])\n",
    "# df[\"Year\"][0:6]] --> 0 yo 6 \n",
    "#df[[\"\",\"\"]] # multiple show colums \n",
    "#type(pdf)\n",
    "#df[\"Year\"][0]=147 >> means is change year \n",
    "#df.index=['first' , 'second' , third ] # mean is change your index\n",
    "# print(df.iloc[0])\n",
    "#df.columns  --> check columns name\n",
    "# print(df.dtypes) -->check types of data frame\n",
    "#print(df.loc[:,\"\" , \"\"]).value # value meaing is  remove columns\n",
    "#print(df.loc[0:3,\"\" , \"\"]).value\n",
    "#df.iloc[:,0:5] # you do no columne then you use iloc\n",
    "#df[df[\"Year\"]>1974] # show only graten then\n",
    "#df[\"Year\"].unique() # check unique values\n",
    "#df[\"Gnder\"].value_counts #meaning is number of male and female\n",
    "#df.corr --> meaning is multiple data compare \n",
    "#df.info()\n",
    "#df1=df.dtypes[df.dtypes==\"int64\"].index #only show dataType int64\n",
    "\n",
    "#df.groupny(\"sex\").desribe() # check pernctage male and female\n",
    "\n",
    "\n",
    "\n",
    "\n"
   ]
  },
  {
   "cell_type": "code",
   "execution_count": null,
   "id": "0ebd8a97-ec66-40f4-90cd-f3ab00810099",
   "metadata": {},
   "outputs": [],
   "source": []
  },
  {
   "cell_type": "code",
   "execution_count": null,
   "id": "66ed32b0-8435-422f-8e42-53d79a9df07d",
   "metadata": {},
   "outputs": [],
   "source": []
  },
  {
   "cell_type": "markdown",
   "id": "4c7df62a-eae1-4dcd-9313-556c47ccf7cd",
   "metadata": {},
   "source": [
    "\n",
    "\n",
    "###########################  Data Clean Your Imporant -------------------------------\n",
    "\n",
    "\n"
   ]
  },
  {
   "cell_type": "code",
   "execution_count": 67,
   "id": "40ebe8a2-54ff-45fd-999b-d87f71c905e2",
   "metadata": {},
   "outputs": [
    {
     "name": "stdout",
     "output_type": "stream",
     "text": [
      "   Unnamed: 0    name rollno class  age gender   subject\n",
      "0         NaN   jugal     14  10th   20   male  computer\n",
      "1         NaN   karan   Null  12th   25   male      army\n",
      "2         NaN  kanika     30  13th   27    Nun    design\n",
      "3         NaN    anku     20  12th    0   male      army\n",
      "4         NaN  nikhil     10  10th   21  lgbtq     rider\n"
     ]
    }
   ],
   "source": [
    "one = pd.read_csv('null - school.csv')\n",
    "#but=one.isnull().sum() #  check how many null values \n",
    "#kal=one.dropna(inplace=True,axis=1) # check Nan columns and then remove Columns\n",
    "#na=one.fillna(22) // add Nan value \n",
    "#one_without_null_columns = one.dropna(axis=1) remove Your columns\n",
    "\n",
    "\n",
    "# remove float Number --------------------------------------------------------<><><><><><><>\n",
    "\n",
    "# one['age'] = one['age'].astype(int)\n",
    "\n",
    "one['age'] = one['age'].fillna(0).astype(int)\n",
    "# Display the DataFrame\n",
    "print(one)\n",
    "\n",
    "\n",
    "\n"
   ]
  },
  {
   "cell_type": "code",
   "execution_count": 59,
   "id": "794baa7d-c69a-4589-8664-3090c50257a5",
   "metadata": {},
   "outputs": [
    {
     "name": "stdout",
     "output_type": "stream",
     "text": [
      "   float_column\n",
      "0            20\n",
      "1            30\n",
      "2            41\n"
     ]
    }
   ],
   "source": [
    "# Sample DataFrame\n",
    "data = {'float_column': [20.0, 30.5, 40.8]}\n",
    "df = pd.DataFrame(data)\n",
    "\n",
    "# Round float numbers to remove decimal part\n",
    "df['float_column'] = df['float_column'].round()\n",
    "\n",
    "# Convert to integer type\n",
    "df['float_column'] = df['float_column'].astype(int)\n",
    "\n",
    "# Display the DataFrame\n",
    "print(df)"
   ]
  },
  {
   "cell_type": "code",
   "execution_count": null,
   "id": "fb2e28ca-23b1-4de7-9387-1ccf97d9512a",
   "metadata": {},
   "outputs": [],
   "source": []
  },
  {
   "cell_type": "code",
   "execution_count": null,
   "id": "2c2654cf",
   "metadata": {},
   "outputs": [],
   "source": []
  },
  {
   "cell_type": "code",
   "execution_count": null,
   "id": "093df053",
   "metadata": {},
   "outputs": [],
   "source": []
  },
  {
   "cell_type": "code",
   "execution_count": null,
   "id": "afce1908",
   "metadata": {},
   "outputs": [],
   "source": []
  }
 ],
 "metadata": {
  "kernelspec": {
   "display_name": "Python 3 (ipykernel)",
   "language": "python",
   "name": "python3"
  },
  "language_info": {
   "codemirror_mode": {
    "name": "ipython",
    "version": 3
   },
   "file_extension": ".py",
   "mimetype": "text/x-python",
   "name": "python",
   "nbconvert_exporter": "python",
   "pygments_lexer": "ipython3",
   "version": "3.12.2"
  }
 },
 "nbformat": 4,
 "nbformat_minor": 5
}
